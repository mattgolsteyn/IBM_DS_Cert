{
    "cells": [
        {
            "cell_type": "markdown",
            "metadata": {},
            "source": "# My Jupyter Notebook on IBM Watson Studio\n"
        },
        {
            "cell_type": "markdown",
            "metadata": {},
            "source": "Name: Matt Golsteyn \nDesired Future Role: Chief Information Officer"
        },
        {
            "cell_type": "markdown",
            "metadata": {},
            "source": "### I am interested in data science because I am a closet geek."
        },
        {
            "cell_type": "markdown",
            "metadata": {},
            "source": "The following code tests the Gauss formula"
        },
        {
            "cell_type": "code",
            "execution_count": 1,
            "metadata": {},
            "outputs": [
                {
                    "data": {
                        "text/plain": "True"
                    },
                    "execution_count": 1,
                    "metadata": {},
                    "output_type": "execute_result"
                }
            ],
            "source": "def gauss(n):\n    return (n*(n+1))/2\n\ngauss(100)==sum(range(101))"
        },
        {
            "cell_type": "markdown",
            "metadata": {},
            "source": "1. one\n2. two\n3. three\n\n - bullet one\n - bullet two\n - bullet three\n\n[Click here to visit my GitHub page] (https://github.com/mattgolsteyn/IBM_DS_Cert/tree/main)\n"
        }
    ],
    "metadata": {
        "kernelspec": {
            "display_name": "Python 3.8",
            "language": "python",
            "name": "python3"
        },
        "language_info": {
            "codemirror_mode": {
                "name": "ipython",
                "version": 3
            },
            "file_extension": ".py",
            "mimetype": "text/x-python",
            "name": "python",
            "nbconvert_exporter": "python",
            "pygments_lexer": "ipython3",
            "version": "3.8.12"
        }
    },
    "nbformat": 4,
    "nbformat_minor": 1
}